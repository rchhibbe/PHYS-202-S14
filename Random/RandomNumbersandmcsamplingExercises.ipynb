{
 "metadata": {
  "name": "",
  "signature": "sha256:6a850125ad8439444f397b729d8380fe6fc52c10a5db0ca53c3821d1a1e294ad"
 },
 "nbformat": 3,
 "nbformat_minor": 0,
 "worksheets": [
  {
   "cells": [
    {
     "cell_type": "markdown",
     "metadata": {},
     "source": [
      "Random Numbers, Monte Carlo Sampling and Simulation Exercises"
     ]
    },
    {
     "cell_type": "code",
     "collapsed": false,
     "input": [
      "x = np.arange(0.,np.pi+0.001,0.01)\n",
      "f = lambda x: xy^-x*x^(x-1)*e^-(x/y)^x\n",
      "F = lambda x: \n",
      "\n",
      "plt.plot(x,f(x),label='True distribution',lw=3)\n",
      "plt.plot(x,F(x),label='Cumulative function',lw=3)\n",
      "\n",
      "plt.xlim(-5,5)\n",
      "plt.ylim(-5,5)\n",
      "\n",
      "plt.show()"
     ],
     "language": "python",
     "metadata": {},
     "outputs": [
      {
       "ename": "SyntaxError",
       "evalue": "invalid syntax (<ipython-input-1-fdf33a9f0159>, line 3)",
       "output_type": "pyerr",
       "traceback": [
        "\u001b[1;36m  File \u001b[1;32m\"<ipython-input-1-fdf33a9f0159>\"\u001b[1;36m, line \u001b[1;32m3\u001b[0m\n\u001b[1;33m    F = lambda x:\u001b[0m\n\u001b[1;37m                  ^\u001b[0m\n\u001b[1;31mSyntaxError\u001b[0m\u001b[1;31m:\u001b[0m invalid syntax\n"
       ]
      }
     ],
     "prompt_number": 1
    },
    {
     "cell_type": "code",
     "collapsed": false,
     "input": [],
     "language": "python",
     "metadata": {},
     "outputs": []
    }
   ],
   "metadata": {}
  }
 ]
}