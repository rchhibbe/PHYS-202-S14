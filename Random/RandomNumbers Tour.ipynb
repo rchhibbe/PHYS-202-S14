{
 "metadata": {
  "name": "",
  "signature": "sha256:bfc15644e4d038ebca84801aff96bf2102e53934b60b74eac9458d6d62fcea3e"
 },
 "nbformat": 3,
 "nbformat_minor": 0,
 "worksheets": [
  {
   "cells": [
    {
     "cell_type": "code",
     "collapsed": false,
     "input": [
      "%pylab inline\n",
      "import numpy as np \n",
      "import matplotlib.pyplot as plot"
     ],
     "language": "python",
     "metadata": {},
     "outputs": [
      {
       "output_type": "stream",
       "stream": "stdout",
       "text": [
        "Populating the interactive namespace from numpy and matplotlib\n"
       ]
      }
     ],
     "prompt_number": 2
    },
    {
     "cell_type": "code",
     "collapsed": false,
     "input": [
      "np.random?"
     ],
     "language": "python",
     "metadata": {},
     "outputs": [
      {
       "metadata": {},
       "output_type": "pyout",
       "prompt_number": 3,
       "text": [
        "<module 'numpy.random' from '/Applications/anaconda/lib/python2.7/site-packages/numpy/random/__init__.pyc'>"
       ]
      }
     ],
     "prompt_number": 3
    },
    {
     "cell_type": "code",
     "collapsed": false,
     "input": [
      "print np.random.random(5)\n",
      "\n",
      "print np.random.random(5)"
     ],
     "language": "python",
     "metadata": {},
     "outputs": [
      {
       "output_type": "stream",
       "stream": "stdout",
       "text": [
        "[ 0.02038243  0.63492023  0.75912349  0.31913361  0.63373992]\n",
        "[ 0.33656527  0.28813953  0.03410949  0.05556573  0.37649797]\n"
       ]
      }
     ],
     "prompt_number": 4
    },
    {
     "cell_type": "code",
     "collapsed": false,
     "input": [
      "np.random.seed(4242)\n",
      "\n",
      "print \"using seed = 4242:\"\n",
      "print np.random.seed(5)"
     ],
     "language": "python",
     "metadata": {},
     "outputs": [
      {
       "output_type": "stream",
       "stream": "stdout",
       "text": [
        "using seed = 4242:\n",
        "None\n"
       ]
      }
     ],
     "prompt_number": 7
    },
    {
     "cell_type": "code",
     "collapsed": false,
     "input": [
      "np.random.seed(None)\n",
      "\n",
      "print \"using seed = 4242, we should get the same numbers as before\"\n",
      "print np.random.random(5)"
     ],
     "language": "python",
     "metadata": {},
     "outputs": [
      {
       "output_type": "stream",
       "stream": "stdout",
       "text": [
        "using seed = 4242, we should get the same numbers as before\n",
        "[ 0.57390059  0.60778489  0.8935931   0.98636812  0.53167485]\n"
       ]
      }
     ],
     "prompt_number": 8
    },
    {
     "cell_type": "code",
     "collapsed": false,
     "input": [
      "np.random.seed(None)\n",
      "z = np.random.random(100000)\n",
      "plt.hist(z,100,normed =True);\n",
      "plt.plot([0.1],[.1],'r-',lw =3)\n",
      "plt.xlabel(\"x\",fontsize=20)\n",
      "plt.ylabel(\"sample probability\",fontsize =20)\n",
      "plt.show()"
     ],
     "language": "python",
     "metadata": {},
     "outputs": [
      {
       "metadata": {},
       "output_type": "display_data",
       "png": "[encoded data removed]",
       "text": [
        "<matplotlib.figure.Figure at 0x1066104d0>"
       ]
      }
     ],
     "prompt_number": 13
    },
    {
     "cell_type": "code",
     "collapsed": false,
     "input": [
      "x = np.arange(0.,np.pi+0.001,.01)\n",
      "f = lambda x: np.sin(x/2)\n",
      "F = lambda x: (np.cos(0)-np.cos(x))/2\n",
      "\n",
      "plt.plot(x,f(x)<label = 'True distribution', lw = 3)\n",
      "plt.plot(x,F(x),lable = 'Cumulative function',lw=3)\n",
      "\n",
      "plt.xlim(0,3.5)\n",
      "plt.ylim(0,1.1)\n",
      "\n",
      "plt.legend(loc =0)\n",
      "plt.show()"
     ],
     "language": "python",
     "metadata": {},
     "outputs": [
      {
       "ename": "SyntaxError",
       "evalue": "keyword can't be an expression (<ipython-input-16-de81fab031a4>, line 5)",
       "output_type": "pyerr",
       "traceback": [
        "\u001b[0;36m  File \u001b[0;32m\"<ipython-input-16-de81fab031a4>\"\u001b[0;36m, line \u001b[0;32m5\u001b[0m\n\u001b[0;31m    plt.plot(x,f(x)<label = 'True distribution', lw = 3)\u001b[0m\n\u001b[0;31mSyntaxError\u001b[0m\u001b[0;31m:\u001b[0m keyword can't be an expression\n"
       ]
      }
     ],
     "prompt_number": 16
    },
    {
     "cell_type": "code",
     "collapsed": false,
     "input": [
      "from IPython.html.widgets import interact, interactive\n",
      "from scipy.integrate import trapz, cumtrapz"
     ],
     "language": "python",
     "metadata": {},
     "outputs": [
      {
       "ename": "ImportError",
       "evalue": "No module named Ipython.html.widgets",
       "output_type": "pyerr",
       "traceback": [
        "\u001b[0;31m---------------------------------------------------------------------------\u001b[0m\n\u001b[0;31mImportError\u001b[0m                               Traceback (most recent call last)",
        "\u001b[0;32m<ipython-input-17-e5565b47fa6a>\u001b[0m in \u001b[0;36m<module>\u001b[0;34m()\u001b[0m\n\u001b[0;32m----> 1\u001b[0;31m \u001b[0;32mfrom\u001b[0m \u001b[0mIpython\u001b[0m\u001b[0;34m.\u001b[0m\u001b[0mhtml\u001b[0m\u001b[0;34m.\u001b[0m\u001b[0mwidgets\u001b[0m \u001b[0;32mimport\u001b[0m \u001b[0minteract\u001b[0m\u001b[0;34m,\u001b[0m \u001b[0minteractive\u001b[0m\u001b[0;34m\u001b[0m\u001b[0m\n\u001b[0m\u001b[1;32m      2\u001b[0m \u001b[0;32mfrom\u001b[0m \u001b[0mscipy\u001b[0m\u001b[0;34m.\u001b[0m\u001b[0mintegrate\u001b[0m \u001b[0;32mimport\u001b[0m \u001b[0mtrapz\u001b[0m\u001b[0;34m,\u001b[0m \u001b[0mcumtrapz\u001b[0m\u001b[0;34m\u001b[0m\u001b[0m\n",
        "\u001b[0;31mImportError\u001b[0m: No module named Ipython.html.widgets"
       ]
      }
     ],
     "prompt_number": 17
    },
    {
     "cell_type": "code",
     "collapsed": false,
     "input": [
      "def CDFviewer(xmax = 0.95):\n",
      "    x = np.arange(0.,np.pi+0.001,.01)\n",
      "    f = lambda x: (np.sin(0))- npsin(x)/2.\n",
      "    plt.plot(x,f(x),label ='True distribution'lw=3)\n",
      "    \n",
      "    xcdf = np.arange(0.max+0.001,.01)\n",
      "    F= lambda x: (np.cos(0)-np.cos(x))/2\n",
      "    plt.plot(xcdf,F(xcdf),label ='Cumlative function',lw=3)\n",
      "    \n",
      "    plt.plot((xmax,xmax),(0.,f(max),\"b--\"))\n",
      "    plt.fill_between(xcdf,F(xcdf),label = 'Cumlative function', lw =3)\n",
      "    \n",
      "    plt.fill_between(xcdf,0.,f(xcdf),alpha=0.1)\n",
      "    \n",
      "    total = trapz(f(x),x)\n",
      "    area = trapz(f(xcdf),xcdf)\n",
      "    frac = area/total\n",
      "    \n",
      "    plt.text(2.0,0.6,\"CDF value = %.3f\"%F(xmax),fontsize=12)\n",
      "    plt.text(2.0,0.5,\"Shaded area = %.3f\"%frac,fontsize=12)\n",
      "    \n",
      "    plt.xlim(0,3.5)\n",
      "    plt.ylim(0,1.1)\n",
      "\n",
      "    plt.legend(loc=\"upper left\")\n",
      "    plt.show()\n",
      "\n",
      "\n",
      "v = interact(CDFviewer,xmax=(0.,np.pi,0.01))"
     ],
     "language": "python",
     "metadata": {},
     "outputs": [
      {
       "ename": "SyntaxError",
       "evalue": "invalid syntax (<ipython-input-21-70637f60733b>, line 4)",
       "output_type": "pyerr",
       "traceback": [
        "\u001b[0;36m  File \u001b[0;32m\"<ipython-input-21-70637f60733b>\"\u001b[0;36m, line \u001b[0;32m4\u001b[0m\n\u001b[0;31m    plt.plot(x,f(x),label ='True distribution'lw=3)\u001b[0m\n\u001b[0m                                               ^\u001b[0m\n\u001b[0;31mSyntaxError\u001b[0m\u001b[0;31m:\u001b[0m invalid syntax\n"
       ]
      }
     ],
     "prompt_number": 21
    },
    {
     "cell_type": "code",
     "collapsed": false,
     "input": [
      "N = 1000\n",
      "\n",
      "z = np.random.random_sample(N);\n",
      "\n",
      "Finv = lambda z: np.arccos(np.cos(0)-2*z)\n",
      "\n",
      "xsamples = Finv(z);\n",
      "\n",
      "plt.hist(xsample,50,normed =True, label= \"Sampled distribtion\")\n",
      "plt.plot(x,f(x),label='Truedistribution',lw=3,color='red')\n",
      "plt.xlim(0,pi)\n",
      "plt.ylim(0,0.71)\n",
      "plt.legend(loc=0)\n",
      "plt.show()"
     ],
     "language": "python",
     "metadata": {},
     "outputs": [
      {
       "ename": "NameError",
       "evalue": "name 'xsample' is not defined",
       "output_type": "pyerr",
       "traceback": [
        "\u001b[0;31m---------------------------------------------------------------------------\u001b[0m\n\u001b[0;31mNameError\u001b[0m                                 Traceback (most recent call last)",
        "\u001b[0;32m<ipython-input-22-9285f89fd41d>\u001b[0m in \u001b[0;36m<module>\u001b[0;34m()\u001b[0m\n\u001b[1;32m      7\u001b[0m \u001b[0mxsamples\u001b[0m \u001b[0;34m=\u001b[0m \u001b[0mFinv\u001b[0m\u001b[0;34m(\u001b[0m\u001b[0mz\u001b[0m\u001b[0;34m)\u001b[0m\u001b[0;34m;\u001b[0m\u001b[0;34m\u001b[0m\u001b[0m\n\u001b[1;32m      8\u001b[0m \u001b[0;34m\u001b[0m\u001b[0m\n\u001b[0;32m----> 9\u001b[0;31m \u001b[0mplt\u001b[0m\u001b[0;34m.\u001b[0m\u001b[0mhist\u001b[0m\u001b[0;34m(\u001b[0m\u001b[0mxsample\u001b[0m\u001b[0;34m,\u001b[0m\u001b[0;36m50\u001b[0m\u001b[0;34m,\u001b[0m\u001b[0mnormed\u001b[0m \u001b[0;34m=\u001b[0m\u001b[0mTrue\u001b[0m\u001b[0;34m,\u001b[0m \u001b[0mlabel\u001b[0m\u001b[0;34m=\u001b[0m \u001b[0;34m\"Sampled distribtion\"\u001b[0m\u001b[0;34m)\u001b[0m\u001b[0;34m\u001b[0m\u001b[0m\n\u001b[0m\u001b[1;32m     10\u001b[0m \u001b[0mplt\u001b[0m\u001b[0;34m.\u001b[0m\u001b[0mplot\u001b[0m\u001b[0;34m(\u001b[0m\u001b[0mx\u001b[0m\u001b[0;34m,\u001b[0m\u001b[0mf\u001b[0m\u001b[0;34m(\u001b[0m\u001b[0mx\u001b[0m\u001b[0;34m)\u001b[0m\u001b[0;34m,\u001b[0m\u001b[0mlabel\u001b[0m\u001b[0;34m=\u001b[0m\u001b[0;34m'Truedistribution'\u001b[0m\u001b[0;34m,\u001b[0m\u001b[0mlw\u001b[0m\u001b[0;34m=\u001b[0m\u001b[0;36m3\u001b[0m\u001b[0;34m,\u001b[0m\u001b[0mcolor\u001b[0m\u001b[0;34m=\u001b[0m\u001b[0;34m'red'\u001b[0m\u001b[0;34m)\u001b[0m\u001b[0;34m\u001b[0m\u001b[0m\n\u001b[1;32m     11\u001b[0m \u001b[0mplt\u001b[0m\u001b[0;34m.\u001b[0m\u001b[0mxlim\u001b[0m\u001b[0;34m(\u001b[0m\u001b[0;36m0\u001b[0m\u001b[0;34m,\u001b[0m\u001b[0mpi\u001b[0m\u001b[0;34m)\u001b[0m\u001b[0;34m\u001b[0m\u001b[0m\n",
        "\u001b[0;31mNameError\u001b[0m: name 'xsample' is not defined"
       ]
      }
     ],
     "prompt_number": 22
    },
    {
     "cell_type": "code",
     "collapsed": false,
     "input": [
      "x = np.arange(0.,10.01,0.01)\n",
      "lam = 1\n",
      "\n",
      "f = lambda x: lam*exp(-lam*x)\n",
      "F = lambda x: 1-exp(-lam*x)\n",
      "Finv = lambda z: -log(1-z)/lam\n",
      "\n",
      "plt.plot(x, f(x),label=r'$f(x)=\\lambda e^{-\\lambda x}$')\n",
      "plt.plot(x, F(x), linewidth=5, label=r'$F(x)=1-e^{-\\lambda x}$')\n",
      "plt.ylim(0,1.5)\n",
      "plt.xlim(0,5.)\n",
      "plt.xlabel(r\"$x$\",fontsize = 20)\n",
      "plt.ylabel(r'$f(x),F(x)$',fontsize=20)\n",
      "plt.legend(loc=\"upper left\",fontsize=15)\n",
      "plt.show()"
     ],
     "language": "python",
     "metadata": {},
     "outputs": [
      {
       "metadata": {},
       "output_type": "display_data",
       "png": "[encoded data removed]",
       "text": [
        "<matplotlib.figure.Figure at 0x10661ee50>"
       ]
      }
     ],
     "prompt_number": 23
    },
    {
     "cell_type": "code",
     "collapsed": false,
     "input": [
      "n = 10000\n",
      "z =numpy.random.random_sample(N)\n",
      "\n",
      "xsample = Finv(z)\n",
      "\n",
      "plt.figure(1,(10,10))\n",
      "plt.subplot(2,1,1)\n",
      "plt.hist(xsamples, 50, normed = True. label = \"Sampled Distribution\")\n",
      "plt.plot(x,f(x),label=\"True Distribution\",lw =3,colo='red')\n",
      "plt.xlabel(r\"$x$\", fontsize = 20)\n",
      "plt.ylabel(r'$f(x)=\\lambda e^{-\\lambda x}$',fontsize = 20)\n",
      "plt.ylegend(loc ='best')\n",
      "plt.show()"
     ],
     "language": "python",
     "metadata": {},
     "outputs": [
      {
       "ename": "SyntaxError",
       "evalue": "invalid syntax (<ipython-input-24-2e807c195f58>, line 8)",
       "output_type": "pyerr",
       "traceback": [
        "\u001b[0;36m  File \u001b[0;32m\"<ipython-input-24-2e807c195f58>\"\u001b[0;36m, line \u001b[0;32m8\u001b[0m\n\u001b[0;31m    plt.hist(xsamples, 50, normed = True. label = \"Sampled Distribution\")\u001b[0m\n\u001b[0m                                                ^\u001b[0m\n\u001b[0;31mSyntaxError\u001b[0m\u001b[0;31m:\u001b[0m invalid syntax\n"
       ]
      }
     ],
     "prompt_number": 24
    },
    {
     "cell_type": "code",
     "collapsed": false,
     "input": [
      "\n",
      "x = np.arange(0.,5.,0.002)\n",
      "f = e**(-x)\n",
      "\n",
      "CDF = np.cumsum(f)/f.sum()\n",
      "\n",
      "r = np.random.uniform()\n",
      "print \"Random number = \",r\n",
      "\n",
      "\n",
      "print \"x location = \",xloc\n",
      "\n",
      "\n",
      "N = 10000\n",
      "xsamples = np.zeros(N,float)\n",
      "for i in range(N):\n",
      "    rr = np.random.uniform()\n",
      "    xsamples[i] = x[CDF.searchsorted(rr)]\n",
      "\n",
      "#Make a histogram of the xsamples and compare to the original function\n",
      "plt.plot(x,f,label='True distribution',lw=3,color='red')\n",
      "plt.plot(x,CDF,label=\"Cumulative distribution\",lw=3,color='green')\n",
      "plt.hist(xsamples,bins=100,normed=True,label=\"Sampled distribution\",alpha=0.5)\n",
      "\n",
      "#Plot the example point\n",
      "plt.plot(xloc,r,'g*',markersize=10)\n",
      "plt.plot((xloc,xloc),(0.,r),\"k--\",(0.,xloc),(r,r),\"k--\")\n",
      "\n",
      "plt.ylim(0,1.5)\n",
      "plt.xlim(0,5.)\n",
      "plt.legend()\n",
      "\n",
      "plt.show()"
     ],
     "language": "python",
     "metadata": {},
     "outputs": [
      {
       "output_type": "stream",
       "stream": "stdout",
       "text": [
        "Random number =  0.642575745436\n",
        "x location = "
       ]
      },
      {
       "ename": "NameError",
       "evalue": "name 'xloc' is not defined",
       "output_type": "pyerr",
       "traceback": [
        "\u001b[0;31m---------------------------------------------------------------------------\u001b[0m\n\u001b[0;31mNameError\u001b[0m                                 Traceback (most recent call last)",
        "\u001b[0;32m<ipython-input-25-f177f135605f>\u001b[0m in \u001b[0;36m<module>\u001b[0;34m()\u001b[0m\n\u001b[1;32m      9\u001b[0m \u001b[0;34m\u001b[0m\u001b[0m\n\u001b[1;32m     10\u001b[0m \u001b[0;34m\u001b[0m\u001b[0m\n\u001b[0;32m---> 11\u001b[0;31m \u001b[0;32mprint\u001b[0m \u001b[0;34m\"x location = \"\u001b[0m\u001b[0;34m,\u001b[0m\u001b[0mxloc\u001b[0m\u001b[0;34m\u001b[0m\u001b[0m\n\u001b[0m\u001b[1;32m     12\u001b[0m \u001b[0;34m\u001b[0m\u001b[0m\n\u001b[1;32m     13\u001b[0m \u001b[0;34m\u001b[0m\u001b[0m\n",
        "\u001b[0;31mNameError\u001b[0m: name 'xloc' is not defined"
       ]
      }
     ],
     "prompt_number": 25
    },
    {
     "cell_type": "code",
     "collapsed": false,
     "input": [
      "def distribute1D(x,prob,N):\n",
      "    CDF = cumtrapz(prob)/np.sum(prob)\n",
      "    xsample= np.zeros(N,float)\n",
      "    for i in range(0,N):\n",
      "        r = np.random.ranf()\n",
      "        xsample[i] = x[CDF.searchsorted(r)]\n",
      "    return xsamples"
     ],
     "language": "python",
     "metadata": {},
     "outputs": [
      {
       "output_type": "stream",
       "stream": "stdout",
       "text": [
        "\n"
       ]
      }
     ],
     "prompt_number": 26
    },
    {
     "cell_type": "code",
     "collapsed": false,
     "input": [
      "def doubleSlit(d=15.,a=10.,L=3.,lam=632.8, N=0):\n",
      "    dm = d*1.e-6\n",
      "    am = a*1.e-6\n",
      "    \n",
      "    wave=1am*1.e-9\n",
      "    x = np.linspace(-0.2,0.2,10000)\n",
      "    Isingle = np.sinc(am*x/wave/L)**2.\n",
      "    Idouble = (np.cos(2*np.pi*dm*x/L**2))\n",
      "    Itot = Isingle*Idouble\n",
      "    \n",
      "    xsample = distribution1D(x,Itot,N)\n",
      "    ysample = -.2 + .4*np.random.ranf(N)\n",
      "    \n",
      "    fig =plt.figure(1,(10,6))\n",
      "    plt.subplot(2,1,1)\n",
      "    plt.plot(x,Itot)\n",
      "    ply.xlim(-.2,.2)\n",
      "    plt.ylim(0.,1.2)\n",
      "    plt.ylabel(\"Intensity\",fontsize= 20)\n",
      "    \n",
      "    plt.sublot(2,1,2)\n",
      "    plt.xlim(-.2,.2)\n",
      "    plt.ylim(-.2,.2)\n",
      "    plt.scatter(xsamples,ysamples)\n",
      "    plt.xlabel(\"x(m)\",fontsize= 20)\n",
      "    plt.ylabel(\"y(m)\",fontsize= 20)\n",
      "\n",
      "v5 = ineract(doubleSlit,d=(1.,20.,1.), a = (5,50.,1.), L=(1.0,3.0), lam =(435.,700, N=(0,10000)))\n",
      "    "
     ],
     "language": "python",
     "metadata": {},
     "outputs": [
      {
       "ename": "SyntaxError",
       "evalue": "invalid syntax (<ipython-input-28-cc0f9d33ed86>, line 5)",
       "output_type": "pyerr",
       "traceback": [
        "\u001b[0;36m  File \u001b[0;32m\"<ipython-input-28-cc0f9d33ed86>\"\u001b[0;36m, line \u001b[0;32m5\u001b[0m\n\u001b[0;31m    wave=1am*1.e-9\u001b[0m\n\u001b[0m           ^\u001b[0m\n\u001b[0;31mSyntaxError\u001b[0m\u001b[0;31m:\u001b[0m invalid syntax\n"
       ]
      }
     ],
     "prompt_number": 28
    },
    {
     "cell_type": "code",
     "collapsed": false,
     "input": [],
     "language": "python",
     "metadata": {},
     "outputs": []
    }
   ],
   "metadata": {}
  }
 ]
}