{
 "metadata": {
  "name": "",
  "signature": "sha256:732558771a686e8465c7bbbdc1ad75148d9a87640ffec7588ef0b28db591e835"
 },
 "nbformat": 3,
 "nbformat_minor": 0,
 "worksheets": [
  {
   "cells": [
    {
     "cell_type": "heading",
     "level": 4,
     "metadata": {},
     "source": [
      "1. Find a partner. Choose a driver and a navigator. The driver should copy their Battleship code to a cell in the driver's ErrorHandlingExercises notebook. The driver should explain to the navigator the basics of how their program works. Work together to add some error handling to the program. Include a markdown cell identifying the driver and navigator. When you are done, switch roles and let the navigator be the driver and vice versa. At the end you should both have a Battleship program that includes some error handling."
     ]
    },
    {
     "cell_type": "code",
     "collapsed": false,
     "input": [
      "def place_ship(boardsize):\n",
      "    #Select vertical or horizontal ship\n",
      "    shipdir = randint(0,1)\n",
      "    #random ship length\n",
      "    shiplength = randint(1,boardsize-2)\n",
      "    shipstart = randint(0,boardsize-1)\n",
      "    shipend = shipstart - 1 + shiplength\n",
      "    shipdiff = boardsize - 1 - shipend\n",
      "    if shipdiff < 0:\n",
      "        shipstart += shipdiff\n",
      "        shipend += shipdiff\n",
      "    #print shipdir, shiplength, shipstart, shipend, shipdiff\n",
      "    shipside = randint(0,boardsize-1)\n",
      "    ship = []\n",
      "    if randint(0,1) == 1:\n",
      "        for i in range(shiplength):\n",
      "            ship.append((shipstart+i,shipside))\n",
      "    else:\n",
      "        for i in range(shiplength):\n",
      "            ship.append((shipside,shipstart+i))\n",
      "    return ship\n",
      "\n",
      "BLACK = (0,0,0)\n",
      "RED = (255,0,0)\n",
      "ORANGE = (255,150,0)\n",
      "OCEAN = (13, 123, 234)\n",
      "except:\n",
      "            print \"error\"\n",
      "    finally:\n",
      "        print \"gameready\""
     ],
     "language": "python",
     "metadata": {},
     "outputs": []
    },
    {
     "cell_type": "code",
     "collapsed": false,
     "input": [
      "print \"Let's play Battleship!\"\n",
      "boardsize = input(\"How big should the ocean be? (Enter an integer from 4 to 20)\")\n",
      "nturns = input(\"How many shots would you like?\")\n",
      "\n",
      "board = BlockGrid(boardsize, boardsize, fill=OCEAN)\n",
      "board.show()\n",
      "\n",
      "ship = place_ship(boardsize)\n",
      "nhits = 0\n",
      "\n",
      "for turn in range(nturns+1):\n",
      "    #print ship\n",
      "    guess_row = input(\"Guess Row:\")\n",
      "    guess_col = input(\"Guess Col:\")\n",
      "    try:\n",
      "    if (guess_row < 0 or guess_row >= board.height) or (guess_col < 0 or guess_col >= board.width):\n",
      "        clear_output()\n",
      "        board.show()\n",
      "        print \"Oops, that's not even in the ocean.\"\n",
      "    else:\n",
      "        guessblock = board[guess_row,guess_col]\n",
      "        if (guess_row,guess_col) in ship:\n",
      "            clear_output()\n",
      "            board[guess_row,guess_col] = RED\n",
      "            board.show()\n",
      "            print \"It's a hit!\"\n",
      "            nhits += 1          \n",
      "        elif (guessblock.red,guessblock.green,guessblock.blue) == BLACK or (guessblock.red,guessblock.green,guessblock.blue) == RED:\n",
      "            clear_output()\n",
      "            board.show()\n",
      "            print \"You guessed that one already.\"\n",
      "        else:\n",
      "            clear_output()\n",
      "            board[guess_row,guess_col] = BLACK\n",
      "            board.show()\n",
      "            print \"You missed my battleship!\"\n",
      "        except:\n",
      "            print \"error\"\n",
      "\n",
      "    if nhits == len(ship):\n",
      "        clear_output()\n",
      "        board[guess_row,guess_col] = RED\n",
      "        board.show()\n",
      "        print \"Congratulations! You sunk my battleship!\"\n",
      "        break\n",
      "    try:\n",
      "    if turn == nturns:\n",
      "        clear_output()\n",
      "        #Reveal location of ship in yellow\n",
      "        for block in ship:\n",
      "            current = board[block[0],block[1]]\n",
      "            if (current.red,current.green,current.blue) == RED:\n",
      "                pass\n",
      "            else:\n",
      "                board[block[0],block[1]] = ORANGE\n",
      "        board.show()\n",
      "        print \"Sorry, you are out of turns.  Game Over.\"\n",
      "    else:\n",
      "        print turn+1\n",
      "        finally:\n",
      "            print \"done\"\n",
      "    "
     ],
     "language": "python",
     "metadata": {},
     "outputs": []
    },
    {
     "cell_type": "heading",
     "level": 5,
     "metadata": {},
     "source": [
      "i just took the one from the hw solutions becaues i could not get a partner"
     ]
    },
    {
     "cell_type": "heading",
     "level": 4,
     "metadata": {},
     "source": [
      "2. Here is a function which takes a filename, opens the file, reads the result, closes the file, and returns the contents. It should look something like this:"
     ]
    },
    {
     "cell_type": "code",
     "collapsed": false,
     "input": [
      "def read_all_from_file(filename):\n",
      "    try:\n",
      "        f = open(filename)\n",
      "        contents = f.read()\n",
      "        f.close()\n",
      "        return contents\n",
      "    except IOError as err:\n",
      "        print err\n",
      "        print \"file.which.does.not.exist: \",err.filename\n",
      "        return None\n",
      "    else:\n",
      "        print \"file.which.does.not.exist\"\n",
      "    finally:\n",
      "        print \"cleanup\""
     ],
     "language": "python",
     "metadata": {},
     "outputs": [],
     "prompt_number": 58
    },
    {
     "cell_type": "code",
     "collapsed": false,
     "input": [
      "read_all_from_file('tmp.txt')"
     ],
     "language": "python",
     "metadata": {},
     "outputs": [
      {
       "output_type": "stream",
       "stream": "stdout",
       "text": [
        "[Errno 2] No such file or directory: 'tmp.txt'\n",
        "file.which.does.not.exist:  tmp.txt\n",
        "some sort of cleanup\n"
       ]
      }
     ],
     "prompt_number": 57
    },
    {
     "cell_type": "code",
     "collapsed": false,
     "input": [
      "read_all_from_file('file.which.does.not.exist')"
     ],
     "language": "python",
     "metadata": {},
     "outputs": [
      {
       "output_type": "stream",
       "stream": "stdout",
       "text": [
        "[Errno 2] No such file or directory: 'file.which.does.not.exist'\n",
        "file.which.does.not.exist:  file.which.does.not.exist\n",
        "cleanup\n"
       ]
      }
     ],
     "prompt_number": 59
    },
    {
     "cell_type": "code",
     "collapsed": false,
     "input": [
      "read_all_from_file('file.which.does.not.exist', safe=True)"
     ],
     "language": "python",
     "metadata": {},
     "outputs": [
      {
       "ename": "TypeError",
       "evalue": "read_all_from_file() got an unexpected keyword argument 'safe'",
       "output_type": "pyerr",
       "traceback": [
        "\u001b[1;31m---------------------------------------------------------------------------\u001b[0m\n\u001b[1;31mTypeError\u001b[0m                                 Traceback (most recent call last)",
        "\u001b[1;32m<ipython-input-60-c353b53eaa49>\u001b[0m in \u001b[0;36m<module>\u001b[1;34m()\u001b[0m\n\u001b[1;32m----> 1\u001b[1;33m \u001b[0mread_all_from_file\u001b[0m\u001b[1;33m(\u001b[0m\u001b[1;34m'file.which.does.not.exist'\u001b[0m\u001b[1;33m,\u001b[0m \u001b[0msafe\u001b[0m\u001b[1;33m=\u001b[0m\u001b[0mTrue\u001b[0m\u001b[1;33m)\u001b[0m\u001b[1;33m\u001b[0m\u001b[0m\n\u001b[0m",
        "\u001b[1;31mTypeError\u001b[0m: read_all_from_file() got an unexpected keyword argument 'safe'"
       ]
      }
     ],
     "prompt_number": 60
    },
    {
     "cell_type": "code",
     "collapsed": false,
     "input": [
      "def read_all_from_file(filename):\n",
      "    try:\n",
      "        f = open(filename)\n",
      "        contents = f.read()\n",
      "        safe = True\n",
      "        f.close()\n",
      "        return contents\n",
      "    except IOError as err:\n",
      "        print err\n",
      "        print \"file.which.does.not.exist: \",err.filename\n",
      "        return None\n",
      "    else:\n",
      "        print \"file.which.does.not.exist\"\n",
      "    finally:\n",
      "        print \"cleanup\""
     ],
     "language": "python",
     "metadata": {},
     "outputs": []
    },
    {
     "cell_type": "code",
     "collapsed": false,
     "input": [
      "read_all_from_file('file.which.does.not.exist', safe=True)"
     ],
     "language": "python",
     "metadata": {},
     "outputs": []
    },
    {
     "cell_type": "code",
     "collapsed": false,
     "input": [
      "def read_all_from_file(filename):\n",
      "    try:\n",
      "        \n",
      "        f = open(filename)\n",
      "        contents = f.read()\n",
      "        f.close()\n",
      "        return contents\n",
      "    except:\n",
      "        print \"this file DNE\""
     ],
     "language": "python",
     "metadata": {},
     "outputs": []
    },
    {
     "cell_type": "code",
     "collapsed": false,
     "input": [
      "read_all_from_file('file.which.does.not.exist')"
     ],
     "language": "python",
     "metadata": {},
     "outputs": []
    }
   ],
   "metadata": {}
  }
 ]
}