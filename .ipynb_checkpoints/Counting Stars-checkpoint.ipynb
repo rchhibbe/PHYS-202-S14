{
 "metadata": {
  "name": "",
  "signature": "sha256:a9cdf292579350a4984bedd2a9554b6b1c075f0f7d0c0cfbdd1f366ecb26b61a"
 },
 "nbformat": 3,
 "nbformat_minor": 0,
 "worksheets": [
  {
   "cells": [
    {
     "cell_type": "code",
     "collapsed": false,
     "input": [
      "%pylab inline\n",
      "import numpy as np\n",
      "import matpoltlib.pyplot as plt"
     ],
     "language": "python",
     "metadata": {},
     "outputs": []
    },
    {
     "cell_type": "heading",
     "level": 1,
     "metadata": {},
     "source": [
      "Image I/O"
     ]
    },
    {
     "cell_type": "code",
     "collapsed": false,
     "input": [
      "from PIL import Image\n",
      "import requests\n",
      "from StringIO import String"
     ],
     "language": "python",
     "metadata": {},
     "outputs": []
    }
   ],
   "metadata": {}
  }
 ]
}