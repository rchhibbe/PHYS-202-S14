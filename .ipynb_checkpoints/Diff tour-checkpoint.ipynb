{
 "metadata": {
  "name": "",
  "signature": "sha256:5411e3896da85695c261f702fd492a4b32a216b9d4798e7bf6c1f25685cc0e6b"
 },
 "nbformat": 3,
 "nbformat_minor": 0,
 "worksheets": [
  {
   "cells": [
    {
     "cell_type": "code",
     "collapsed": false,
     "input": [
      "%pylab inline\n",
      "import numpy as np\n",
      "import matplotlib.pyplot as plt"
     ],
     "language": "python",
     "metadata": {},
     "outputs": [
      {
       "output_type": "stream",
       "stream": "stdout",
       "text": [
        "Populating the interactive namespace from numpy and matplotlib\n"
       ]
      }
     ],
     "prompt_number": 2
    },
    {
     "cell_type": "code",
     "collapsed": false,
     "input": [
      "x = np.arange(0.,10.01,0.1)\n",
      "y = x**5"
     ],
     "language": "python",
     "metadata": {},
     "outputs": [],
     "prompt_number": 10
    },
    {
     "cell_type": "code",
     "collapsed": false,
     "input": [
      "dy = np.diff(y) #y(n+1)-y(n)\n",
      "\n",
      "#Check out the help on the diff method if you want to learn more:\n",
      "#help(np.diff)\n",
      "\n",
      "print len(y), len(dy)\n",
      "dx = np.diff(x)\n",
      "dydx = (dy/dx)\n",
      "print len(dydx)"
     ],
     "language": "python",
     "metadata": {},
     "outputs": [
      {
       "output_type": "stream",
       "stream": "stdout",
       "text": [
        "101 100\n",
        "100\n"
       ]
      }
     ],
     "prompt_number": 6
    },
    {
     "cell_type": "code",
     "collapsed": false,
     "input": [
      "#specify the size of dy ahead because diff returns an array of n-1 elements\n",
      "dydx1 = np.zeros(y.shape,float) #we know it will be this size\n",
      "\n",
      "dydx1[0:-1] = np.diff(y)/np.diff(x)\n",
      "dydx1[-1] = (y[-1] - y[-2])/(x[-1] - x[-2])"
     ],
     "language": "python",
     "metadata": {},
     "outputs": [],
     "prompt_number": 5
    },
    {
     "cell_type": "code",
     "collapsed": false,
     "input": [
      "#calculate dydx by center differencing using array slices\n",
      "dydx2 = np.zeros(y.shape,float) #we know it will be this size\n",
      "\n",
      "dydx2[1:-1] = (y[2:] - y[:-2])/(x[2:] - x[:-2]) #center difference\n",
      "\n",
      "dydx2[0] = (y[1]-y[0])/(x[1]-x[0]) #forward difference\n",
      "\n",
      "dydx2[-1] = (y[-1] - y[-2])/(x[-1] - x[-2]) #backward difference\n",
      "print dydx2[-1]"
     ],
     "language": "python",
     "metadata": {},
     "outputs": [
      {
       "output_type": "stream",
       "stream": "stdout",
       "text": [
        "49009.9501\n"
       ]
      }
     ],
     "prompt_number": 12
    },
    {
     "cell_type": "code",
     "collapsed": false,
     "input": [
      "dydxExact = 5*x**4\n",
      "print dydxExact"
     ],
     "language": "python",
     "metadata": {},
     "outputs": [
      {
       "output_type": "stream",
       "stream": "stdout",
       "text": [
        "[  0.00000000e+00   5.00000000e-04   8.00000000e-03   4.05000000e-02\n",
        "   1.28000000e-01   3.12500000e-01   6.48000000e-01   1.20050000e+00\n",
        "   2.04800000e+00   3.28050000e+00   5.00000000e+00   7.32050000e+00\n",
        "   1.03680000e+01   1.42805000e+01   1.92080000e+01   2.53125000e+01\n",
        "   3.27680000e+01   4.17605000e+01   5.24880000e+01   6.51605000e+01\n",
        "   8.00000000e+01   9.72405000e+01   1.17128000e+02   1.39920500e+02\n",
        "   1.65888000e+02   1.95312500e+02   2.28488000e+02   2.65720500e+02\n",
        "   3.07328000e+02   3.53640500e+02   4.05000000e+02   4.61760500e+02\n",
        "   5.24288000e+02   5.92960500e+02   6.68168000e+02   7.50312500e+02\n",
        "   8.39808000e+02   9.37080500e+02   1.04256800e+03   1.15672050e+03\n",
        "   1.28000000e+03   1.41288050e+03   1.55584800e+03   1.70940050e+03\n",
        "   1.87404800e+03   2.05031250e+03   2.23872800e+03   2.43984050e+03\n",
        "   2.65420800e+03   2.88240050e+03   3.12500000e+03   3.38260050e+03\n",
        "   3.65580800e+03   3.94524050e+03   4.25152800e+03   4.57531250e+03\n",
        "   4.91724800e+03   5.27800050e+03   5.65824800e+03   6.05868050e+03\n",
        "   6.48000000e+03   6.92292050e+03   7.38816800e+03   7.87648050e+03\n",
        "   8.38860800e+03   8.92531250e+03   9.48736800e+03   1.00755605e+04\n",
        "   1.06906880e+04   1.13335605e+04   1.20050000e+04   1.27058405e+04\n",
        "   1.34369280e+04   1.41991205e+04   1.49932880e+04   1.58203125e+04\n",
        "   1.66810880e+04   1.75765205e+04   1.85075280e+04   1.94750405e+04\n",
        "   2.04800000e+04   2.15233605e+04   2.26060880e+04   2.37291605e+04\n",
        "   2.48935680e+04   2.61003125e+04   2.73504080e+04   2.86448805e+04\n",
        "   2.99847680e+04   3.13711205e+04   3.28050000e+04   3.42874805e+04\n",
        "   3.58196480e+04   3.74026005e+04   3.90374480e+04   4.07253125e+04\n",
        "   4.24673280e+04   4.42646405e+04   4.61184080e+04   4.80298005e+04\n",
        "   5.00000000e+04]\n"
       ]
      }
     ],
     "prompt_number": 13
    },
    {
     "cell_type": "code",
     "collapsed": false,
     "input": [],
     "language": "python",
     "metadata": {},
     "outputs": []
    }
   ],
   "metadata": {}
  }
 ]
}