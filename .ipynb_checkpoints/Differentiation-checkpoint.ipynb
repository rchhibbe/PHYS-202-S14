{
 "metadata": {
  "name": "",
  "signature": "sha256:02ebc1ffb69b287950ab50c76df4576b0077b22541d806b7996cc94271852394"
 },
 "nbformat": 3,
 "nbformat_minor": 0,
 "worksheets": [
  {
   "cells": [
    {
     "cell_type": "heading",
     "level": 4,
     "metadata": {},
     "source": [
      "Question 1"
     ]
    },
    {
     "cell_type": "markdown",
     "metadata": {},
     "source": [
      "Let\u2019s explore the accuracy of numerical differentiation.\n",
      "(a) Write two functions called twoPtForwardDiff(x,y) and twoPtCenteredDiff(x,y) that take as arguments arrays of values x and y(x) and return the derivatives of y with respect to x. Make sure that the arrays returned by the function have the same shape as the input arrays."
     ]
    },
    {
     "cell_type": "raw",
     "metadata": {},
     "source": [
      "def two PtForwardDiff (x,y):\n",
      "   \n",
      "    x = arange(1,1,1)\n",
      "    y = x\n",
      "    dydx1 = np.zeros(y.shape,float)\n",
      "    dydx1[0:-1] = np.diff(y)/np.diff(x)\n",
      "    dydx2[1:-1] = (y[1] - y[0])/(x[1] - x[0])dydx2[1:-1)\n",
      "    \n",
      "    \n",
      "    \n",
      "    return dydx"
     ]
    },
    {
     "cell_type": "code",
     "collapsed": false,
     "input": [
      "def two PtCeteredDiff(x,y):\n",
      "    \n",
      "dydx[0:-1] = np.diff(y)/np.diff(x)\n",
      "dydx1[-1] = (y[-1] -y[-2])/x[-2]- x[-2]\n",
      "dydx2[1:-1] = (y[1] - y[-2]/x[-2] - x[-2])"
     ],
     "language": "python",
     "metadata": {},
     "outputs": []
    },
    {
     "cell_type": "raw",
     "metadata": {},
     "source": [
      "\n",
      "Question 2\n",
      "Numerical differentiation plays an important role in fast electronic signal processing in many experimental contexts, such as the data acquisition systems of high energy particle and nuclear physics. The data collected is often a series of fast time samples of energy deposited in a detector by a fast-moving charged particle. The sheer volume of data can be enormous, so some signal processing within the electronics chain is necessary to reduce the size of the collected dataset.\n",
      "Due to the stochastic nature of the particle interactions and the inherent noise in the readout electronics, these signals can be very noisy. Unfortunately, numerical differentiation can amplify these fluctuations. By choosing your differentiation algorithm carefully, you can minimize the impact of these fluctuations on the collected signals.\n",
      "Generate and plot an example of a noisy sinusoidally varying dataset with the following:\n"
     ]
    },
    {
     "cell_type": "code",
     "collapsed": false,
     "input": [],
     "language": "python",
     "metadata": {},
     "outputs": []
    }
   ],
   "metadata": {}
  }
 ]
}