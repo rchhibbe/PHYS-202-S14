{
 "metadata": {
  "name": "",
  "signature": "sha256:8d9c68c8fa9e8ff94654de700b58a343bb293edf60bb352f64084f3fdbf34abf"
 },
 "nbformat": 3,
 "nbformat_minor": 0,
 "worksheets": []
}