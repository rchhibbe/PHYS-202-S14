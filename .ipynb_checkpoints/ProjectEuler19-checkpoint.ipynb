{
 "metadata": {
  "name": "",
  "signature": "sha256:27ea2fe8bccfb1debb5d23df3076310db7eb0c32ce86d9ab887666a84c198ae5"
 },
 "nbformat": 3,
 "nbformat_minor": 0,
 "worksheets": [
  {
   "cells": [
    {
     "cell_type": "markdown",
     "metadata": {},
     "source": [
      "You are given the following information, but you may prefer to do some research for yourself.\n",
      "\n",
      "1 Jan 1900 was a Monday.\n",
      "Thirty days has September,\n",
      "April, June and November.\n",
      "All the rest have thirty-one,\n",
      "Saving February alone,\n",
      "Which has twenty-eight, rain or shine.\n",
      "And on leap years, twenty-nine.\n",
      "A leap year occurs on any year evenly divisible by 4, but not on a century unless it is divisible by 400.\n",
      "How many Sundays fell on the first of the month during the twentieth century (1 Jan 1901 to 31 Dec 2000)?"
     ]
    },
    {
     "cell_type": "code",
     "collapsed": false,
     "input": [
      "def sundays():\n",
      "        z=[31,28,31,30,31,30,31,31,30,31,30,31]\n",
      "        year = 0\n",
      "        x,y=0,0\n",
      "        for year in range(1901,2000):\n",
      "            if (not (year)%4 and (year)%100): D[1]=29\n",
      "            else: D[1]=28\n",
      "            for i in z:             \n",
      "                if not (y-1)%7 and i>1:\n",
      "                    y = y+ 1\n",
      "                    x = x+ 1\n",
      "        print x\n",
      "        return x"
     ],
     "language": "python",
     "metadata": {},
     "outputs": [],
     "prompt_number": 71
    },
    {
     "cell_type": "heading",
     "level": 4,
     "metadata": {},
     "source": [
      "I dont see why i dont get some sort of answer from this even a wrong one answer does not show up\n",
      "            "
     ]
    },
    {
     "cell_type": "code",
     "collapsed": false,
     "input": [],
     "language": "python",
     "metadata": {},
     "outputs": [],
     "prompt_number": 28
    },
    {
     "cell_type": "code",
     "collapsed": false,
     "input": [],
     "language": "python",
     "metadata": {},
     "outputs": []
    }
   ],
   "metadata": {}
  }
 ]
}