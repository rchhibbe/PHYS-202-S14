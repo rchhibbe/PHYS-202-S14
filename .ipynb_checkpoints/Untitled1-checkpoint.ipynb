{
 "metadata": {
  "name": "",
  "signature": "sha256:87398070e81dc3150e8e14be02c86d65521253c5b9cb493de40fe9c0a2dc2b18"
 },
 "nbformat": 3,
 "nbformat_minor": 0,
 "worksheets": [
  {
   "cells": [
    {
     "cell_type": "code",
     "collapsed": false,
     "input": [
      "%%file Electrostatics.py\n",
      "\n",
      "import numpy as np\n",
      "\n",
      "def pointPotential(x,y,q,Xc,Yc):\n",
      "    \"\"\"\n",
      "    Return the electric potential for a \n",
      "    point charge q at (Xc,Yc)\n",
      "    \n",
      "    Units returned are [Volts] if input \n",
      "    units are [meters] and [Coulombs]                                   \n",
      "    \"\"\"\n",
      "    k = 8.987551787997912e9 #(Nm^2/C^2)                                                                        \n",
      "    Vxy = k*q/np.sqrt(((x-Xc)**2 + (y-Yc)**2))\n",
      "    return Vxy\n",
      "\n",
      "def dipolePotential(x,y,q,d):\n",
      "    \"\"\"\n",
      "    Return the electric potential for a \n",
      "    pair of point charges +/- q                                         \n",
      "    separated by distance d along the x-axis \n",
      "    with their midpoint at (0,0).                                  \n",
      "                                                                                                               \n",
      "    Units returned are [Volts] if input\n",
      "    units are [meters] and [Coulombs]                                   \n",
      "    \"\"\"\n",
      "    Vxy=pointPotential(x,y,q,-d/2.,0.) + pointPotential(x,y,-q,+d/2.,0.)\n",
      "    return Vxy"
     ],
     "language": "python",
     "metadata": {},
     "outputs": [
      {
       "output_type": "stream",
       "stream": "stdout",
       "text": [
        "Writing Electrostatics.py\n"
       ]
      }
     ],
     "prompt_number": 1
    },
    {
     "cell_type": "code",
     "collapsed": false,
     "input": [],
     "language": "python",
     "metadata": {},
     "outputs": []
    }
   ],
   "metadata": {}
  }
 ]
}