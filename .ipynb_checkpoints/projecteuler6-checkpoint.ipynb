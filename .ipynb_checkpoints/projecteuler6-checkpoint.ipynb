{
 "metadata": {
  "name": "",
  "signature": "sha256:f86bf1d85265d49e8f81826b6272e0f3be90a4638026643746796d7f92088141"
 },
 "nbformat": 3,
 "nbformat_minor": 0,
 "worksheets": [
  {
   "cells": [
    {
     "cell_type": "code",
     "collapsed": false,
     "input": [
      "def sum_squ():\n",
      "    x,y = 0,0\n",
      "for x in range (1, 101):\n",
      "    sumofsquares = 0\n",
      "    sum_sq = x**2\n",
      "sumofsquares += sum_sq\n",
      "a += x\n",
      "squareofsum = a**2\n",
      "ans = squareofsum - sum_sq \n",
      "print ans\n",
      "\n"
     ],
     "language": "python",
     "metadata": {},
     "outputs": [
      {
       "output_type": "stream",
       "stream": "stdout",
       "text": [
        "251212500\n"
       ]
      }
     ],
     "prompt_number": 53
    },
    {
     "cell_type": "code",
     "collapsed": false,
     "input": [],
     "language": "python",
     "metadata": {},
     "outputs": []
    }
   ],
   "metadata": {}
  }
 ]
}