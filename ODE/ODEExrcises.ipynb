{
 "metadata": {
  "name": "",
  "signature": "sha256:900240c3471b439e994ad63dec7aa36f57049dcf9dda579e7521c2ea95c389fa"
 },
 "nbformat": 3,
 "nbformat_minor": 0,
 "worksheets": [
  {
   "cells": [
    {
     "cell_type": "markdown",
     "metadata": {},
     "source": [
      "(a) Use the numerical solution to see what happens to the period of the pendulum as you change the initial angle of release. Plot \u03b8 vs. t for 5 different initial angles, \u03b80 , spanning 0 to \u03c0. (i.e. 0, \u03c0/4 , \u03c0/2 , 3\u03c0/4 , and \u03c0 ). Put them all on the same plot. What happens to the period of the pendulum as the initial angle increases from \u03c0/4 to 3\u03c0/4? What happens to the trajectory when the initial angle is 0 or \u03c0 ?"
     ]
    },
    {
     "cell_type": "code",
     "collapsed": false,
     "input": [
      "g = 9.8 \n",
      "ell = 0.5 \n",
      "th0 = 20.*np.pi/180\n",
      "th1 =40*np.pi/180\n",
      "th2 =60*np.pi/180\n",
      "th3 90np.pi/180\n",
      "th4 =110*np.pi/180\n",
      "th5 =180*np.pi/180\n",
      "t = np.arange(0.,10.+0.01,0.01)\n",
      "theta_app = lambda t: th0*np.cos(np.sqrt(g/ell)*t)\n",
      "\n",
      "plt.plot(t,theta_app(t),label='Approximate solution')\n",
      "plt.plot(t,theta_app(t),label='Approximate solution')\n",
      "plt.xlabel(r'$t (seconds)$',fontsize=20)\n",
      "plt.ylabel(r'$\\theta (rad)$',fontsize=20)\n",
      "plt.ylim(-1,1.5)\n",
      "plt.grid()\n",
      "plt.legend()\n",
      "plt.show()"
     ],
     "language": "python",
     "metadata": {},
     "outputs": []
    },
    {
     "cell_type": "markdown",
     "metadata": {},
     "source": [
      "(b) Make plots of \u03b8 vs. t, \u03c9 vs. t, and \u03c9 vs. \u03b8 (the so-called \"phase plot\") for \u03b80 = 0.95\u03c0. Look carefully at their behavior. What is going on in these figures?"
     ]
    },
    {
     "cell_type": "code",
     "collapsed": false,
     "input": [
      "plt.plot(t, theta_app(t),label='Approximate soution')\n",
      "plt.xlabel(r'$t(seconds)$',fontsize=20)\n",
      "plt.ylabel(r'$\\theta (rad)$',fontsize = 20)\n",
      "plt.ylim(-1,1.5)\n",
      "plt.grid()\n",
      "plt.legend()\n",
      "plt.show()"
     ],
     "language": "python",
     "metadata": {},
     "outputs": []
    },
    {
     "cell_type": "markdown",
     "metadata": {},
     "source": [
      "(c) For the \u03b80 = 0.95\u03c0 case, check that energy is conserved by plotting E/m vs. t (where E/m=g\u2113(1\u2212cos(\u03b8))+12\u21132\u03c92 ).\n",
      "Is the energy a constant? If not, then the computational errors are producing a non-physical loss (or gain) of energy. Review the documentation for odeint and change the error tolerance value to a tighter number."
     ]
    },
    {
     "cell_type": "code",
     "collapsed": false,
     "input": [],
     "language": "python",
     "metadata": {},
     "outputs": []
    },
    {
     "cell_type": "markdown",
     "metadata": {},
     "source": [
      "(d) Now look at what happens if we start the pendulum straight up, \u03b8=\u03c0. Go for at least 50 s. Be sure to describe what happens numerically according to the \u03b8 vs. t, \u03c9 vs. t and E/m vs. t plots. What do you think should happen? What happens if you change the error tolerance on odeint? How does this compare to a nearly vertical pendulum: \u03b80=\u03c0\u22120.000001 ?"
     ]
    },
    {
     "cell_type": "code",
     "collapsed": false,
     "input": [],
     "language": "python",
     "metadata": {},
     "outputs": []
    },
    {
     "cell_type": "markdown",
     "metadata": {},
     "source": [
      "Question 2\n",
      "(a) Use Euler's method (not odeint) to solve the following first-order differential equation with given initial condition y(0) = 0.\n",
      "dydx=x+2y\n",
      "Find the value of y when x = 1, y(1), using two different step sizes: 0.25 then 0.02."
     ]
    },
    {
     "cell_type": "code",
     "collapsed": false,
     "input": [
      "def Q2():\n",
      "    a = 1 # maximum time\n",
      "    b = .2\n",
      "    nsteps = int(a/b)\n",
      "    \n",
      "    x = np.zeros(nsteps)\n",
      " \n",
      "    # set initial conditions, redun2dant in this example\n",
      "    y[0] = 0.\n",
      "\n",
      "    for i in range(len(x)-1):\n",
      "        x[i+1] = x[i] \n",
      "        y[i+1] = 2y[i]  \n",
      "        \n",
      "    return x,y"
     ],
     "language": "python",
     "metadata": {},
     "outputs": [
      {
       "ename": "SyntaxError",
       "evalue": "invalid syntax (<ipython-input-3-01d40add01d1>, line 13)",
       "output_type": "pyerr",
       "traceback": [
        "\u001b[1;36m  File \u001b[1;32m\"<ipython-input-3-01d40add01d1>\"\u001b[1;36m, line \u001b[1;32m13\u001b[0m\n\u001b[1;33m    y[i+1] = 2y[i]\u001b[0m\n\u001b[1;37m              ^\u001b[0m\n\u001b[1;31mSyntaxError\u001b[0m\u001b[1;31m:\u001b[0m invalid syntax\n"
       ]
      }
     ],
     "prompt_number": 3
    },
    {
     "cell_type": "markdown",
     "metadata": {},
     "source": [
      "(b) Plot the results from part (a) for the two different step sizes with the exact solution\n",
      "y=0.25e2x\u22120.5x\u22120.25\n",
      "on one plot. Include a legend. Which step size gives a more accurate result?"
     ]
    },
    {
     "cell_type": "code",
     "collapsed": false,
     "input": [],
     "language": "python",
     "metadata": {},
     "outputs": []
    },
    {
     "cell_type": "markdown",
     "metadata": {},
     "source": [
      "(c) Now solve the same problem using Euler-Cromer and the Midpoint method for the same pair of step sizes and plot the results along with the exact solution. Then also plot the difference between the approximate numerical solutions and the exact solution. Which combination of method and step-size gives the best result?"
     ]
    },
    {
     "cell_type": "code",
     "collapsed": false,
     "input": [],
     "language": "python",
     "metadata": {},
     "outputs": []
    },
    {
     "cell_type": "code",
     "collapsed": false,
     "input": [],
     "language": "python",
     "metadata": {},
     "outputs": []
    }
   ],
   "metadata": {}
  }
 ]
}