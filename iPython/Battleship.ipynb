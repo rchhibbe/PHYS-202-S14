{
 "metadata": {
  "name": "",
  "signature": "sha256:18e885734ecddad3915bcf176996fb1542043f5171179853b4c0afb974fd6400"
 },
 "nbformat": 3,
 "nbformat_minor": 0,
 "worksheets": [
  {
   "cells": [
    {
     "cell_type": "code",
     "collapsed": false,
     "input": [],
     "language": "python",
     "metadata": {},
     "outputs": []
    },
    {
     "cell_type": "code",
     "collapsed": false,
     "input": [],
     "language": "python",
     "metadata": {},
     "outputs": []
    },
    {
     "cell_type": "code",
     "collapsed": false,
     "input": [],
     "language": "python",
     "metadata": {},
     "outputs": []
    },
    {
     "cell_type": "code",
     "collapsed": false,
     "input": [],
     "language": "python",
     "metadata": {},
     "outputs": []
    },
    {
     "cell_type": "code",
     "collapsed": false,
     "input": [],
     "language": "python",
     "metadata": {},
     "outputs": []
    },
    {
     "cell_type": "code",
     "collapsed": false,
     "input": [
      "from ipythonblocks import BlockGrid\n",
      "\n",
      "board = BlockGrid(25,25,fill=(173, 216, 230)) #I changed the color here\n",
      "board\n",
      "\n",
      "for x in range(5):\n",
      "    board.append([\"X\"] * 5)\n",
      "\n",
      "def print_board(board):\n",
      "    for row in board:\n",
      "        print \" \".join(row)\n",
      "\n",
      "print \"Let's play Battleship!\"\n",
      "print_board(board)\n",
      "\n",
      "def random_row(board):\n",
      "    return randint(0, len(board) - 1)\n",
      "\n",
      "def random_col(board):\n",
      "    return randint(0, len(board[0]) - 1)\n",
      "\n",
      "#these are the different ships\n",
      "ship_row = random_row(board)\n",
      "Ship2/V_row =random_row(board)+random_row2(board)\n",
      "Ship3/V_row =random_row(board)+random_row2(board)+random_row3(board)\n",
      "ship_col = random_col(board)\n",
      "Ship2_col/H =random_col(board) + random_col2(board)\n",
      "Ship3_col/V =random_col(board) + random_col2(board)+random_col3(board)\n",
      "print ship_row\n",
      "print ship_col\n",
      "\n",
      "# Everything from here on should go in your for loop!\n",
      "# Be sure to indent four spaces!\n",
      "for turn in range(16):\n",
      "    guess_row = int(raw_input(\"Guess Row:\"))\n",
      "    guess_col = int(raw_input(\"Guess Col:\"))\n",
      "    if guess_row == ship_row and guess_col == ship_col or guess_row ==random_row(board)+random_row2(board) and guess_col == ship_col:\n",
      "        print \"Congratulations! You sunk my battleship!\"\n",
      "board [ guess_row,guess_col] = (255, 0, 0)\n",
      "else:\n",
      "    if guess_row not in range(5) or \\\n",
      "   guess_col not in range(5):\n",
      "        print \"Oops, that's not even in the ocean.\"\n",
      "    elif(board[guess_row][guess_col] == \"X\"):\n",
      "        print \"You guessed that one already.\"\n",
      "else:\n",
      "        print \"You missed my battleship!\"\n",
      "        board[guess_row][guess_col] = \"X\"\n",
      "board [ guess_row,guess_col] = (0, 139, 139)\n",
      "    # Print (turn + 1) here!\n",
      "    print \"This is the \", str(turn + 1), \"th turn\"\n",
      "    if (board[guess_row][guess_col] == \"X\" and turn==15):#I increased turns here\n",
      "        print \"Game over\"\n",
      "print board\n",
      "    print_board(board)\n",
      "\n"
     ],
     "language": "python",
     "metadata": {},
     "outputs": [
      {
       "ename": "IndentationError",
       "evalue": "unexpected indent (<ipython-input-12-0b19c50a22d0>, line 40)",
       "output_type": "pyerr",
       "traceback": [
        "\u001b[1;36m  File \u001b[1;32m\"<ipython-input-12-0b19c50a22d0>\"\u001b[1;36m, line \u001b[1;32m40\u001b[0m\n\u001b[1;33m    else:\u001b[0m\n\u001b[1;37m    ^\u001b[0m\n\u001b[1;31mIndentationError\u001b[0m\u001b[1;31m:\u001b[0m unexpected indent\n"
       ]
      }
     ],
     "prompt_number": 12
    },
    {
     "cell_type": "markdown",
     "metadata": {},
     "source": [
      "\n",
      "There are  6 different types of ships in order to sink the larger ones you must guess the entire section that you suspect. The ship names are ship_row Ship2/V_row Ship3/V_row ship_col Ship2_col/H Ship3_col/V. The number stands for the amount of blocks it takes up and the V/H tells you its orientation. The board it 25 by 25 and the players are given 15 turns each to sink as many ships as they can."
     ]
    },
    {
     "cell_type": "code",
     "collapsed": false,
     "input": [],
     "language": "python",
     "metadata": {},
     "outputs": []
    }
   ],
   "metadata": {}
  }
 ]
}