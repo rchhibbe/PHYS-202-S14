{
 "metadata": {
  "name": "",
  "signature": "sha256:fc40b0f7e8674850252bdea30cba9f216579e21ac8d444f5f7ed01194d4390d3"
 },
 "nbformat": 3,
 "nbformat_minor": 0,
 "worksheets": [
  {
   "cells": [
    {
     "cell_type": "heading",
     "level": 1,
     "metadata": {},
     "source": [
      "answer cell"
     ]
    },
    {
     "cell_type": "code",
     "collapsed": false,
     "input": [
      "x=1\n",
      "y=2\n",
      "z=0\n",
      "while (y <= 4000000):\n",
      "    if not y % 2 :\n",
      "        z = z + y\n",
      "    x = y\n",
      "    y = x + y\n",
      "print (z)"
     ],
     "language": "python",
     "metadata": {},
     "outputs": [
      {
       "output_type": "stream",
       "stream": "stdout",
       "text": [
        "4194302\n"
       ]
      }
     ],
     "prompt_number": 66
    },
    {
     "cell_type": "heading",
     "level": 1,
     "metadata": {},
     "source": [
      "the answer is off but not by much a small adjustment is needed "
     ]
    },
    {
     "cell_type": "heading",
     "level": 2,
     "metadata": {},
     "source": [
      "test cell"
     ]
    },
    {
     "cell_type": "code",
     "collapsed": false,
     "input": [
      "def thirdfibnum(x):\n",
      "    int (first = 0);\n",
      "    int (secondfibnum = 1);\n",
      "    int (thirdfibnum = firstfibnum + secondfibnum);\n",
      "    int (sum(list) = thirdfibsum);\n",
      "    list = []\n",
      "while (thirdfibnum <= 40000000):\n",
      "        if (thirdfibnum % 2 ):\n",
      "            sum = sum + thirdfibsum;\n",
      "thirdfibnum = secondfibnum;\n",
      "firstfibnum = secondfibnum;\n",
      "thirdfibnum = firstfibnum + secondfibnum;\n",
      "print (sum)\n"
     ],
     "language": "python",
     "metadata": {},
     "outputs": [
      {
       "ename": "SyntaxError",
       "evalue": "keyword can't be an expression (<ipython-input-67-f276263f9687>, line 5)",
       "output_type": "pyerr",
       "traceback": [
        "\u001b[1;36m  File \u001b[1;32m\"<ipython-input-67-f276263f9687>\"\u001b[1;36m, line \u001b[1;32m5\u001b[0m\n\u001b[1;33m    int (sum(list) = thirdfibsum);\u001b[0m\n\u001b[1;31mSyntaxError\u001b[0m\u001b[1;31m:\u001b[0m keyword can't be an expression\n"
       ]
      }
     ],
     "prompt_number": 67
    },
    {
     "cell_type": "code",
     "collapsed": false,
     "input": [],
     "language": "python",
     "metadata": {},
     "outputs": [],
     "prompt_number": 67
    },
    {
     "cell_type": "code",
     "collapsed": false,
     "input": [],
     "language": "python",
     "metadata": {},
     "outputs": []
    },
    {
     "cell_type": "code",
     "collapsed": false,
     "input": [],
     "language": "python",
     "metadata": {},
     "outputs": []
    },
    {
     "cell_type": "code",
     "collapsed": false,
     "input": [],
     "language": "python",
     "metadata": {},
     "outputs": []
    },
    {
     "cell_type": "code",
     "collapsed": false,
     "input": [],
     "language": "python",
     "metadata": {},
     "outputs": []
    }
   ],
   "metadata": {}
  }
 ]
}