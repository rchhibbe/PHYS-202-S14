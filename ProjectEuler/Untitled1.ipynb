{
 "metadata": {
  "name": "",
  "signature": "sha256:95d9123679a421f41e842c6da52fd7c509e0e84bbbc914cc8597a5c6a5e791ba"
 },
 "nbformat": 3,
 "nbformat_minor": 0,
 "worksheets": [
  {
   "cells": [
    {
     "cell_type": "code",
     "collapsed": false,
     "input": [
      "# Project Euler - Problem 19\n",
      " \n",
      "months = [[\"JAN\",2], [\"F\", 5],[\"MAR\", 5],[\"APR\",1],[\"MAY\",3],[\"JUNE\",6],\n",
      "          [\"JULY\",1],[\"AUG\",4],[\"SEPT\",7],[\"OCT\",2],[\"NOV\",5],[\"DEC\",7]]\n",
      "cnt = 0\n",
      " \n",
      "for year in range(1901, 2001):\n",
      "    for month in months:\n",
      "        if month[1] % 7 == 0:\n",
      "            cnt += 1\n",
      "        if month[0] != \"F\" and year+1 % 4 == 0: # Leap year\n",
      "            month[1] += 2\n",
      "        elif month[0] == \"F\" and year % 4 == 0:\n",
      "            month[1] += 2\n",
      "        else:\n",
      "            month[1] += 1\n",
      " \n",
      "print cnt"
     ],
     "language": "python",
     "metadata": {},
     "outputs": [
      {
       "output_type": "stream",
       "stream": "stdout",
       "text": [
        "171\n"
       ]
      }
     ],
     "prompt_number": 10
    },
    {
     "cell_type": "code",
     "collapsed": false,
     "input": [],
     "language": "python",
     "metadata": {},
     "outputs": []
    }
   ],
   "metadata": {}
  }
 ]
}