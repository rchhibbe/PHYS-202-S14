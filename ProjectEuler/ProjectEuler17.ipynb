{
 "metadata": {
  "name": "",
  "signature": "sha256:9e95b54e6c1b4a614a806d406d6110e2fe43d8beb02410198e6c45476c0fe5c4"
 },
 "nbformat": 3,
 "nbformat_minor": 0,
 "worksheets": [
  {
   "cells": [
    {
     "cell_type": "code",
     "collapsed": false,
     "input": [],
     "language": "python",
     "metadata": {},
     "outputs": [],
     "prompt_number": 87
    },
    {
     "cell_type": "code",
     "collapsed": false,
     "input": [
      "Project Euler 17"
     ],
     "language": "python",
     "metadata": {},
     "outputs": [],
     "prompt_number": 87
    },
    {
     "cell_type": "markdown",
     "metadata": {},
     "source": [
      "If the numbers 1 to 5 are written out in words: one, two, three, four, five, then there are 3 + 3 + 5 + 4 + 4 = 19 letters used in total.\n",
      "\n",
      "If all the numbers from 1 to 1000 (one thousand) inclusive were written out in words, how many letters would be used?\n",
      "\n",
      "\n",
      "NOTE: Do not count spaces or hyphens. For example, 342 (three hundred and forty-two) contains 23 letters and 115 (one hundred and fifteen) contains 20 letters. The use of \"and\" when writing out numbers is in compliance with British usage."
     ]
    },
    {
     "cell_type": "code",
     "collapsed": false,
     "input": [
      "result = 0\n",
      "lists = {\n",
      "    1:'one',2:'two',3:'three',4:'four',5:'five',6:'six',7:'seven',\n",
      "    8:'eight',9:'nine',10:'ten',11:'eleven',12:'twelve',13:'thirteen',\n",
      "    14:'fourteen',15:'fifteen',16:'sixteen',17:'seventeen',\n",
      "    18:'eighteen',19:'nineteen',20:'twenty',30:'thirty',40:'forty',\n",
      "    50:'fifty',60:'sixty',70:'seventy',80:'eighty',90:'ninety',\n",
      "    100:'hundred',1000:'thousand'}\n",
      " \n",
      "for b in range(1,1001):\n",
      "    a = str(b)    \n",
      "    if len(str(b)) == 1:\n",
      "        i = len(lists[b]) \n",
      "    elif len(str(b)) == 2:\n",
      "        s = a[1:2]\n",
      "        h = a[0:1]\n",
      "        if b < 20:\n",
      "            i = len(lists[b])\n",
      "        else:\n",
      "            if s == '0':\n",
      "                i = len(lists[b])\n",
      "            else:\n",
      "                c = str(h + '0')\n",
      "                i = len(lists[int(c)]) + len(lists[int(s)])\n",
      "    elif len(str(b)) == 3:\n",
      "        f = a[2:3]\n",
      "        h = a[0:1]\n",
      "        s = a[1:2]\n",
      "        d = str(s + f)\n",
      "        c = str(s + '0')\n",
      "        if f == '0' and h == '1' and x2 == '0' :\n",
      "            i = len(lists[1]) + len(lists[100])\n",
      "        elif s == '1' and f != '0':\n",
      "            i = 3 + len(lists[int(h)]) + len(lists[100]) \\\n",
      "            + len(lists[int(d)])    \n",
      "        elif s == '0' and f == '0':\n",
      "            \n",
      "            i = len(lists[int(h)]) + len(lists[100])  \n",
      "        elif s == '0' and f != '0':\n",
      "            i = 3 +  len(lists[int(h)] + len(lists[100]) \\\n",
      "                + len(lists[int(f)]) \n",
      "        elif s != '0' and f == '0':\n",
      "            i = 3 + len(lists[int(h)]) + len(lists[100]) \\\n",
      "                + len(lists[int(c)])\n",
      "        else:\n",
      "            i = 3 + len(lists[int(h)]) + len(lists[100]) \\\n",
      "                + len(lists[int(c)]) + len(lists[int(f)])\n",
      "           \n",
      "             \n",
      "    else:\n",
      "        i = len(lists[1]) + len(lists[1000])\n",
      "    result +=  i\n",
      "print result"
     ],
     "language": "python",
     "metadata": {},
     "outputs": [
      {
       "ename": "SyntaxError",
       "evalue": "invalid syntax (<ipython-input-1-2bb1330803c7>, line 40)",
       "output_type": "pyerr",
       "traceback": [
        "\u001b[1;36m  File \u001b[1;32m\"<ipython-input-1-2bb1330803c7>\"\u001b[1;36m, line \u001b[1;32m40\u001b[0m\n\u001b[1;33m    elif s != '0' and f == '0':\u001b[0m\n\u001b[1;37m       ^\u001b[0m\n\u001b[1;31mSyntaxError\u001b[0m\u001b[1;31m:\u001b[0m invalid syntax\n"
       ]
      }
     ],
     "prompt_number": 1
    },
    {
     "cell_type": "markdown",
     "metadata": {},
     "source": [
      "I was getting the wrong answer so I made changes to the equations but now I think the logic is right and I can't figure out this syntax error that came out of nowhere."
     ]
    },
    {
     "cell_type": "code",
     "collapsed": false,
     "input": [],
     "language": "python",
     "metadata": {},
     "outputs": []
    }
   ],
   "metadata": {}
  }
 ]
}