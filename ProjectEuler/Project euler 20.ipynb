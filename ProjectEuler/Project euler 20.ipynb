{
 "metadata": {
  "name": "",
  "signature": "sha256:f183cc18918565e244d7e49e0363a6017686c7f005d6ea0b1b6b76353d78b6b0"
 },
 "nbformat": 3,
 "nbformat_minor": 0,
 "worksheets": [
  {
   "cells": [
    {
     "cell_type": "markdown",
     "metadata": {},
     "source": [
      "Problem 20"
     ]
    },
    {
     "cell_type": "markdown",
     "metadata": {},
     "source": [
      "n! means n \u00d7 (n \u2212 1) \u00d7 ... \u00d7 3 \u00d7 2 \u00d7 1\n",
      "\n",
      "For example, 10! = 10 \u00d7 9 \u00d7 ... \u00d7 3 \u00d7 2 \u00d7 1 = 3628800,\n",
      "and the sum of the digits in the number 10! is 3 + 6 + 2 + 8 + 8 + 0 + 0 = 27.\n",
      "\n",
      "Find the sum of the digits in the number 100!"
     ]
    },
    {
     "cell_type": "code",
     "collapsed": false,
     "input": [
      "f = 0\n",
      "def ans(x):\n",
      "    if x == 1: \n",
      "        return 1\n",
      "    else: return x * ans(x-1)\n",
      "for y in str(ans(100)):\n",
      "    f = f + int(y)\n",
      "print f"
     ],
     "language": "python",
     "metadata": {},
     "outputs": [
      {
       "output_type": "stream",
       "stream": "stdout",
       "text": [
        "648\n"
       ]
      }
     ],
     "prompt_number": 1
    },
    {
     "cell_type": "code",
     "collapsed": false,
     "input": [
      "f = 0\n",
      "def ans(x):\n",
      "    if x == 1: \n",
      "        return 1\n",
      "    else: return x * ans(x-1)\n",
      "for y in str(ans(500)):\n",
      "    f = f + int(y)\n",
      "print f"
     ],
     "language": "python",
     "metadata": {},
     "outputs": [
      {
       "output_type": "stream",
       "stream": "stdout",
       "text": [
        "4599\n"
       ]
      }
     ],
     "prompt_number": 3
    },
    {
     "cell_type": "code",
     "collapsed": false,
     "input": [
      "f = 0\n",
      "def ans(x):\n",
      "    if x == 1: \n",
      "        return 1\n",
      "    else: return x * ans(x-1)\n",
      "for y in str(ans(200)):\n",
      "    f = f + int(y)\n",
      "print f"
     ],
     "language": "python",
     "metadata": {},
     "outputs": [
      {
       "output_type": "stream",
       "stream": "stdout",
       "text": [
        "1404\n"
       ]
      }
     ],
     "prompt_number": 4
    },
    {
     "cell_type": "code",
     "collapsed": false,
     "input": [],
     "language": "python",
     "metadata": {},
     "outputs": []
    }
   ],
   "metadata": {}
  }
 ]
}